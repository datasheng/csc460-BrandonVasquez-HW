{
 "cells": [
  {
   "cell_type": "code",
   "execution_count": 140,
   "id": "81b6925f-7c8f-4a96-a07b-038a9f320b49",
   "metadata": {},
   "outputs": [],
   "source": [
    "import pandas as pd\n",
    "from bs4 import BeautifulSoup\n",
    "import requests\n",
    "from datetime import datetime\n",
    "import re"
   ]
  },
  {
   "cell_type": "code",
   "execution_count": 141,
   "id": "0f03e720-ec88-44ff-b47f-d1a58f3a7aa7",
   "metadata": {},
   "outputs": [
    {
     "name": "stdout",
     "output_type": "stream",
     "text": [
      "Hello World\n"
     ]
    }
   ],
   "source": [
    "print(\"Hello World\")"
   ]
  },
  {
   "cell_type": "code",
   "execution_count": 142,
   "id": "b34d1e82-b48b-460b-8d4b-6e6657db3cb3",
   "metadata": {},
   "outputs": [
    {
     "name": "stdout",
     "output_type": "stream",
     "text": [
      "{'Connection': 'keep-alive', 'Content-Length': '26697', 'Cache-Control': 'max-age=1800, public', 'Content-Encoding': 'gzip', 'Content-Language': 'en', 'Content-Type': 'text/html; charset=UTF-8', 'Etag': 'W/\"1759352213\"', 'Expires': 'Sun, 19 Nov 1978 05:00:00 GMT', 'Last-Modified': 'Wed, 01 Oct 2025 20:56:53 GMT', 'Server': 'nginx', 'Strict-Transport-Security': 'max-age=31622400', 'X-Content-Type-Options': 'nosniff', 'X-Drupal-Cache': 'MISS', 'X-Drupal-Dynamic-Cache': 'MISS', 'X-Frame-Options': 'SAMEORIGIN', 'X-Generator': 'Drupal 10 (https://www.drupal.org)', 'X-Pantheon-Styx-Hostname': 'styx-fe3-a-6966ffb76d-sqsg8', 'X-Styx-Req-Id': '28b6f945-9f09-11f0-be4e-4642d4bfde44', 'Date': 'Wed, 01 Oct 2025 23:28:50 GMT', 'X-Served-By': 'cache-chi-kigq8000114-CHI, cache-ewr-kewr1740045-EWR', 'X-Cache': 'MISS, HIT', 'X-Cache-Hits': '0, 0', 'X-Timer': 'S1759361330.177104,VS0,VE11', 'Vary': 'Accept-Encoding, Cookie, Cookie, Cookie', 'Age': '1705', 'Accept-Ranges': 'bytes', 'Via': '1.1 varnish, 1.1 varnish'}\n"
     ]
    }
   ],
   "source": [
    "# first we gotta fetch the website\n",
    "#website is: https://www.ccny.cuny.edu/registrar/fall\n",
    "URL = 'https://www.ccny.cuny.edu/registrar/fall'\n",
    "res = requests.get(url=URL)\n",
    "print(res.headers)"
   ]
  },
  {
   "cell_type": "code",
   "execution_count": 143,
   "id": "4428b648-4dea-4518-a03c-c19ad37aab22",
   "metadata": {},
   "outputs": [
    {
     "data": {
      "text/plain": [
       "'\\n[\\n    {\\n        \"date\": \"Aug, 1\",\\n        \"dow\": \"Mon\",\\n        \"text\": \"The great noticing\":\\n    }\\n]\\n\\n'"
      ]
     },
     "execution_count": 143,
     "metadata": {},
     "output_type": "execute_result"
    }
   ],
   "source": [
    "#now that we fetched the site, we want to extract the html with beautifulsoup\n",
    "html_data = res.content\n",
    "soup = BeautifulSoup(html_data, 'html.parser')\n",
    "# print(soup.prettify())\n",
    "\n",
    "#now that we have extracted the html we find where most of the data for the list is\n",
    "tr_tag = soup.find_all('tr')\n",
    "#returns a list of the entire list with each index containing where <tr> upto </tr>\n",
    "\n",
    "#we will now iterate to build up a \n",
    "#we have two ways to construct our DataFrame: List of Dicts or Dict of Lists\n",
    "# list of dicts allows us to construct it in such a way that each row is created with its relecant data\n",
    "\"\"\"\n",
    "[\n",
    "    {\n",
    "        \"date\": \"Aug, 1\",\n",
    "        \"dow\": \"Mon\",\n",
    "        \"text\": \"The great noticing\":\n",
    "    }\n",
    "]\n",
    "\n",
    "\"\"\""
   ]
  },
  {
   "cell_type": "code",
   "execution_count": 170,
   "id": "f92ca66c-8477-40d9-8506-31453bb7fb7f",
   "metadata": {},
   "outputs": [
    {
     "name": "stdout",
     "output_type": "stream",
     "text": [
      "August 18\n"
     ]
    }
   ],
   "source": [
    "#using the .string attribute allows us to get the string between tags\n",
    "\n",
    "cal_yr = soup.title.string\n",
    "yr = re.search(r'\\d+', cal_yr)\n",
    "if yr: yr = yr.group(0) #extracting the year from the title with regex\n",
    "\n",
    "\n",
    "def find_dt_range_nums(date_str, strt=True) -> int: \n",
    "    if strt:\n",
    "        return int(date_str[date_str.index('-') - 3:date_str.index('-') - 1]) # remember on slicing :end is not included\n",
    "    return int(date_str[date_str.index('-') + 2:])\n",
    "\n",
    "\n",
    "print(tr_tag[2].find_all('td')[0].find('p').string) #some ch\n",
    "\n",
    "df_prep = []\n",
    "for tr in tr_tag[1:]: \n",
    "    tr_chunk = tr.find_all('td') # chunking is better done over the td tags since each seperate label has them\n",
    "    df_row = {\n",
    "        \"date\":  tr_chunk[0].string or tr_chunk[0].find('p').string, #binary short circuit evaluation helps make this effective without crazy checks\n",
    "        \"dow\": tr_chunk[1].string or tr_chunk[1].find('p').string,\n",
    "        \"text\": tr_chunk[2]\n",
    "    }\n",
    "        \n",
    "    df_prep.append(df_row)"
   ]
  },
  {
   "cell_type": "code",
   "execution_count": 173,
   "id": "9cae2a2e-6862-43b2-98ec-3c8ddd9c5157",
   "metadata": {},
   "outputs": [
    {
     "name": "stdout",
     "output_type": "stream",
     "text": [
      "                                    dow  \\\n",
      "date                                      \n",
      "August 01                        Sunday   \n",
      "August 18                     Wednesday   \n",
      "August 24                       Tuesday   \n",
      "August 25                     Wednesday   \n",
      "August 25 - 31      Wednesday - Tuesday   \n",
      "August 26                      Thursday   \n",
      "August 28                      Saturday   \n",
      "August 31                       Tuesday   \n",
      "September 01                  Wednesday   \n",
      "September 03 - 08    Friday - Wednesday   \n",
      "September 06                     Monday   \n",
      "September 09                   Thursday   \n",
      "September 14                    Tuesday   \n",
      "September 15                  Wednesday   \n",
      "September 15 - 16  Wednesday - Thursday   \n",
      "September 23                   Thursday   \n",
      "September 24                     Friday   \n",
      "October 01                       Friday   \n",
      "October 08                       Friday   \n",
      "October 11                       Monday   \n",
      "November 01                      Monday   \n",
      "November 02                     Tuesday   \n",
      "November 04                    Thursday   \n",
      "November 06                    Saturday   \n",
      "November 23                     Tuesday   \n",
      "November 25 - 28      Thursday - Sunday   \n",
      "December 11                    Saturday   \n",
      "December 13                      Monday   \n",
      "December 14                     Tuesday   \n",
      "December 15 - 21    Wednesday - Tuesday   \n",
      "December 21                     Tuesday   \n",
      "December 24 - 25      Friday - Saturday   \n",
      "December 27                      Monday   \n",
      "December 28                     Tuesday   \n",
      "December 31                      Friday   \n",
      "January 1, 2022                Saturday   \n",
      "\n",
      "                                                                text  \n",
      "date                                                                  \n",
      "August 01          [\\n, [[Application for degree for January and ...  \n",
      "August 18             [\\n, [Last day to apply for Study Abroad], \\n]  \n",
      "August 24          [\\n, [[Last day of Registration;, <br/>, \\n\\t\\...  \n",
      "August 25          [\\n, [Start of Fall Term;, [], \\n\\t\\t\\tClasses...  \n",
      "August 25 - 31     [\\n, [[Change of program period; late fees app...  \n",
      "August 26                 [\\n, [Last day for Independent Study], \\n]  \n",
      "August 28                [\\n, [[First day of Saturday Classes]], \\n]  \n",
      "August 31          [\\n, [Last day to add a class to an existing e...  \n",
      "September 01       [\\n, [[Verification of Enrollment rosters avai...  \n",
      "September 03 - 08                   [\\n, [No classes scheduled], \\n]  \n",
      "September 06       [\\n, [[College Closed;, <br/>, \\n\\t\\t\\tLast da...  \n",
      "September 09                                  [Freshman Convocation]  \n",
      "September 14       [\\n, [[Last day for 25% tuition refund;, <br/>...  \n",
      "September 15       [\\n, [Assignment of 'WN' grades for non-attend...  \n",
      "September 15 - 16                 [\\n, [[No classes scheduled]], \\n]  \n",
      "September 23       [\\n, [Last day to submit proof of immunization...  \n",
      "September 24       [\\n, [[Assignment of 'WA' grades for immunizat...  \n",
      "October 01         [\\n, [Advising month begins for Spring and Win...  \n",
      "October 08         [\\n, [[Deadline for filing application for deg...  \n",
      "October 11                                [\\n, [College Closed], \\n]  \n",
      "November 01        [\\n, [['INC' grades for Spring 2021 and Winter...  \n",
      "November 02        [\\n, [Registration appointments for Winter and...  \n",
      "November 04           [\\n, [[Last day to file for P/NC option]], \\n]  \n",
      "November 06                                   [60% Date of the term]  \n",
      "November 23        [['INC' grades for Summer 2021 for Undergradua...  \n",
      "November 25 - 28                          [\\n, [College Closed], \\n]  \n",
      "December 11               [\\n, [[Last day of Saturday Classes]], \\n]  \n",
      "December 13        [\\n, [Course Withdrawal period ends (Last day ...  \n",
      "December 14                                [\\n, [[Reading Day]], \\n]  \n",
      "December 15 - 21                      [\\n, [Final Examinations], \\n]  \n",
      "December 21                                [\\n, [[End of Term]], \\n]  \n",
      "December 24 - 25                          [\\n, [College Closed], \\n]  \n",
      "December 27                             [\\n, [[College Closed]], \\n]  \n",
      "December 28        [\\n, [Final Grade Submission Deadline for Fall...  \n",
      "December 31                             [\\n, [[College Closed]], \\n]  \n",
      "January 1, 2022    [\\n, [College Closed;, [], \\n\\t\\t\\tFall 2021 D...  \n",
      "(36, 2)\n"
     ]
    }
   ],
   "source": [
    "#finally created the dataframe\n",
    "\n",
    "class_sched_df = pd.DataFrame(df_prep)\n",
    "class_sched_df.set_index(keys='date', inplace=True)\n",
    "print(class_sched_df)\n",
    "print(class_sched_df.shape)"
   ]
  },
  {
   "cell_type": "code",
   "execution_count": null,
   "id": "80dfe3f5-85ac-4cc5-8d32-e16fa5d15bef",
   "metadata": {},
   "outputs": [],
   "source": []
  }
 ],
 "metadata": {
  "kernelspec": {
   "display_name": "Python (myenv)",
   "language": "python",
   "name": "myenv"
  },
  "language_info": {
   "codemirror_mode": {
    "name": "ipython",
    "version": 3
   },
   "file_extension": ".py",
   "mimetype": "text/x-python",
   "name": "python",
   "nbconvert_exporter": "python",
   "pygments_lexer": "ipython3",
   "version": "3.13.5"
  }
 },
 "nbformat": 4,
 "nbformat_minor": 5
}
