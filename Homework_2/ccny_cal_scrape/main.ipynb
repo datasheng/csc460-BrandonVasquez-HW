{
 "cells": [
  {
   "cell_type": "code",
   "execution_count": 140,
   "id": "81b6925f-7c8f-4a96-a07b-038a9f320b49",
   "metadata": {},
   "outputs": [],
   "source": [
    "import pandas as pd\n",
    "from bs4 import BeautifulSoup\n",
    "import requests\n",
    "from datetime import datetime\n",
    "import re"
   ]
  },
  {
   "cell_type": "code",
   "execution_count": 141,
   "id": "0f03e720-ec88-44ff-b47f-d1a58f3a7aa7",
   "metadata": {},
   "outputs": [
    {
     "name": "stdout",
     "output_type": "stream",
     "text": [
      "Hello World\n"
     ]
    }
   ],
   "source": [
    "print(\"Hello World\")"
   ]
  },
  {
   "cell_type": "code",
   "execution_count": 142,
   "id": "b34d1e82-b48b-460b-8d4b-6e6657db3cb3",
   "metadata": {},
   "outputs": [
    {
     "name": "stdout",
     "output_type": "stream",
     "text": [
      "{'Connection': 'keep-alive', 'Content-Length': '26697', 'Cache-Control': 'max-age=1800, public', 'Content-Encoding': 'gzip', 'Content-Language': 'en', 'Content-Type': 'text/html; charset=UTF-8', 'Etag': 'W/\"1759352213\"', 'Expires': 'Sun, 19 Nov 1978 05:00:00 GMT', 'Last-Modified': 'Wed, 01 Oct 2025 20:56:53 GMT', 'Server': 'nginx', 'Strict-Transport-Security': 'max-age=31622400', 'X-Content-Type-Options': 'nosniff', 'X-Drupal-Cache': 'MISS', 'X-Drupal-Dynamic-Cache': 'MISS', 'X-Frame-Options': 'SAMEORIGIN', 'X-Generator': 'Drupal 10 (https://www.drupal.org)', 'X-Pantheon-Styx-Hostname': 'styx-fe3-a-6966ffb76d-sqsg8', 'X-Styx-Req-Id': '28b6f945-9f09-11f0-be4e-4642d4bfde44', 'Date': 'Wed, 01 Oct 2025 23:28:50 GMT', 'X-Served-By': 'cache-chi-kigq8000114-CHI, cache-ewr-kewr1740045-EWR', 'X-Cache': 'MISS, HIT', 'X-Cache-Hits': '0, 0', 'X-Timer': 'S1759361330.177104,VS0,VE11', 'Vary': 'Accept-Encoding, Cookie, Cookie, Cookie', 'Age': '1705', 'Accept-Ranges': 'bytes', 'Via': '1.1 varnish, 1.1 varnish'}\n"
     ]
    }
   ],
   "source": [
    "# first we gotta fetch the website\n",
    "#website is: https://www.ccny.cuny.edu/registrar/fall\n",
    "URL = 'https://www.ccny.cuny.edu/registrar/fall'\n",
    "res = requests.get(url=URL)\n",
    "print(res.headers)"
   ]
  },
  {
   "cell_type": "code",
   "execution_count": 143,
   "id": "4428b648-4dea-4518-a03c-c19ad37aab22",
   "metadata": {},
   "outputs": [
    {
     "data": {
      "text/plain": [
       "'\\n[\\n    {\\n        \"date\": \"Aug, 1\",\\n        \"dow\": \"Mon\",\\n        \"text\": \"The great noticing\":\\n    }\\n]\\n\\n'"
      ]
     },
     "execution_count": 143,
     "metadata": {},
     "output_type": "execute_result"
    }
   ],
   "source": [
    "#now that we fetched the site, we want to extract the html with beautifulsoup\n",
    "html_data = res.content\n",
    "soup = BeautifulSoup(html_data, 'html.parser')\n",
    "# print(soup.prettify())\n",
    "\n",
    "#now that we have extracted the html we find where most of the data for the list is\n",
    "tr_tag = soup.find_all('tr')\n",
    "#returns a list of the entire list with each index containing where <tr> upto </tr>\n",
    "\n",
    "#we will now iterate to build up a \n",
    "#we have two ways to construct our DataFrame: List of Dicts or Dict of Lists\n",
    "# list of dicts allows us to construct it in such a way that each row is created with its relecant data\n",
    "\"\"\"\n",
    "[\n",
    "    {\n",
    "        \"date\": \"Aug, 1\",\n",
    "        \"dow\": \"Mon\",\n",
    "        \"text\": \"The great noticing\":\n",
    "    }\n",
    "]\n",
    "\n",
    "\"\"\""
   ]
  },
  {
   "cell_type": "code",
   "execution_count": 230,
   "id": "f92ca66c-8477-40d9-8506-31453bb7fb7f",
   "metadata": {},
   "outputs": [
    {
     "name": "stdout",
     "output_type": "stream",
     "text": [
      "August 18\n"
     ]
    }
   ],
   "source": [
    "#using the .string attribute allows us to get the string between tags   \n",
    "print(tr_tag[2].find_all('td')[0].find('p').string) #some of the chunks are seperated by <p> and some aren't\n",
    "\n",
    "\"\"\"\n",
    "- some of the edge cases when pulling the data were when the tags for each section either used <p> tag or sometimes didn't\n",
    " - This affected the date but was fixed\n",
    "\n",
    "- <p>Start of Fall Term;<br/>\n",
    "\t\t\tClasses begin;<br/>\n",
    "\t\t\tInitial Registration Appeals begin;</p>\n",
    "    - This edge case affects the text column data.\n",
    "    - sometimes we have a single <p> tag for a short line of data\n",
    "    - other times we have no <p> tag with nested <br> (break line) tags which doesn't allow .string to get the text\n",
    "        - and this case is usually meaning multiple strings are in the <p> seperated by </br> breakline tags. \n",
    "        - so I found a useful attribute .strings/.stripped_strings which creates an object we can iterate over \n",
    "        - to view all the children of the tag! This is different from .string since we can only get 1 child when calling it or None is returned \n",
    "\n",
    "\n",
    "\"\"\"\n",
    "\n",
    "\n",
    "#helper function(s)\n",
    "def convert_multi_child_tag_str(tag) -> str:\n",
    "    return ''.join([txt for txt in tag.stripped_strings])\n",
    "\n",
    "def get_doc_yr(doc_title=soup.title.string) -> str:\n",
    "    yr = re.search(r'\\d+', doc_title)\n",
    "    if yr: return yr.group(0) #extracting the year from the title with regex\n",
    "    \n",
    "\n",
    "yr = get_doc_yr(soup.title.string)\n",
    "\n",
    "df_prep = []\n",
    "for tr in tr_tag[1:]: \n",
    "    tr_chunk = tr.find_all('td') # chunking is better done over the td tags since each seperate label has them\n",
    "    df_row = {\n",
    "        \"date\":  tr_chunk[0].string or tr_chunk[0].p.string, #binary short circuit evaluation helps make this effective without crazy checks\n",
    "        \"dow\": tr_chunk[1].string or tr_chunk[1].p.string,\n",
    "        \"text\": tr_chunk[2].string or convert_multi_child_tag_str(tr_chunk[2].p)\n",
    "    }\n",
    "        \n",
    "    df_prep.append(df_row)"
   ]
  },
  {
   "cell_type": "code",
   "execution_count": 231,
   "id": "9cae2a2e-6862-43b2-98ec-3c8ddd9c5157",
   "metadata": {},
   "outputs": [
    {
     "name": "stdout",
     "output_type": "stream",
     "text": [
      "                                    dow  \\\n",
      "date                                      \n",
      "August 01                        Sunday   \n",
      "August 18                     Wednesday   \n",
      "August 24                       Tuesday   \n",
      "August 25                     Wednesday   \n",
      "August 25 - 31      Wednesday - Tuesday   \n",
      "August 26                      Thursday   \n",
      "August 28                      Saturday   \n",
      "August 31                       Tuesday   \n",
      "September 01                  Wednesday   \n",
      "September 03 - 08    Friday - Wednesday   \n",
      "September 06                     Monday   \n",
      "September 09                   Thursday   \n",
      "September 14                    Tuesday   \n",
      "September 15                  Wednesday   \n",
      "September 15 - 16  Wednesday - Thursday   \n",
      "September 23                   Thursday   \n",
      "September 24                     Friday   \n",
      "October 01                       Friday   \n",
      "October 08                       Friday   \n",
      "October 11                       Monday   \n",
      "November 01                      Monday   \n",
      "November 02                     Tuesday   \n",
      "November 04                    Thursday   \n",
      "November 06                    Saturday   \n",
      "November 23                     Tuesday   \n",
      "November 25 - 28      Thursday - Sunday   \n",
      "December 11                    Saturday   \n",
      "December 13                      Monday   \n",
      "December 14                     Tuesday   \n",
      "December 15 - 21    Wednesday - Tuesday   \n",
      "December 21                     Tuesday   \n",
      "December 24 - 25      Friday - Saturday   \n",
      "December 27                      Monday   \n",
      "December 28                     Tuesday   \n",
      "December 31                      Friday   \n",
      "January 1, 2022                Saturday   \n",
      "\n",
      "                                                                text  \n",
      "date                                                                  \n",
      "August 01          Application for degree for January and Februar...  \n",
      "August 18                         Last day to apply for Study Abroad  \n",
      "August 24          Last day of Registration;Last day to file ePer...  \n",
      "August 25          Start of Fall Term;Classes begin;Initial Regis...  \n",
      "August 25 - 31             Change of program period; late fees apply  \n",
      "August 26                             Last day for Independent Study  \n",
      "August 28                              First day of Saturday Classes  \n",
      "August 31          Last day to add a class to an existing enrollm...  \n",
      "September 01       Verification of Enrollment rosters available t...  \n",
      "September 03 - 08                               No classes scheduled  \n",
      "September 06         College Closed;Last day for 50% tuition refund;  \n",
      "September 09                                    Freshman Convocation  \n",
      "September 14       Last day for 25% tuition refund;Census date;La...  \n",
      "September 15       Assignment of 'WN' grades for non-attendance;C...  \n",
      "September 15 - 16                               No classes scheduled  \n",
      "September 23       Last day to submit proof of immunization for N...  \n",
      "September 24       Assignment of 'WA' grades for immunization non...  \n",
      "October 01         Advising month begins for Spring and Winter en...  \n",
      "October 08         Deadline for filing application for degree for...  \n",
      "October 11                                            College Closed  \n",
      "November 01        'INC' grades for Spring 2021 and Winter 2021 f...  \n",
      "November 02        Registration appointments for Winter and Sprin...  \n",
      "November 04                         Last day to file for P/NC option  \n",
      "November 06                                     60% Date of the term  \n",
      "November 23        'INC' grades for Summer 2021 for Undergraduate...  \n",
      "November 25 - 28                                      College Closed  \n",
      "December 11                             Last day of Saturday Classes  \n",
      "December 13        Course Withdrawal period ends (Last day to wit...  \n",
      "December 14                                              Reading Day  \n",
      "December 15 - 21                                  Final Examinations  \n",
      "December 21                                              End of Term  \n",
      "December 24 - 25                                      College Closed  \n",
      "December 27                                           College Closed  \n",
      "December 28            Final Grade Submission Deadline for Fall 2021  \n",
      "December 31                                           College Closed  \n",
      "January 1, 2022      College Closed;Fall 2021 Degree Conferral Date;  \n",
      "(36, 2)\n"
     ]
    }
   ],
   "source": [
    "#finally created the dataframe\n",
    "\n",
    "class_sched_df = pd.DataFrame(df_prep)\n",
    "class_sched_df.set_index(keys='date', inplace=True)\n",
    "print(class_sched_df)\n",
    "print(class_sched_df.shape)"
   ]
  },
  {
   "cell_type": "code",
   "execution_count": null,
   "id": "80dfe3f5-85ac-4cc5-8d32-e16fa5d15bef",
   "metadata": {},
   "outputs": [],
   "source": []
  }
 ],
 "metadata": {
  "kernelspec": {
   "display_name": "Python (myenv)",
   "language": "python",
   "name": "myenv"
  },
  "language_info": {
   "codemirror_mode": {
    "name": "ipython",
    "version": 3
   },
   "file_extension": ".py",
   "mimetype": "text/x-python",
   "name": "python",
   "nbconvert_exporter": "python",
   "pygments_lexer": "ipython3",
   "version": "3.13.5"
  }
 },
 "nbformat": 4,
 "nbformat_minor": 5
}
