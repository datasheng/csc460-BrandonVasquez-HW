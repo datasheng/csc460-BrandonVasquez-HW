{
 "cells": [
  {
   "cell_type": "code",
   "execution_count": 4,
   "id": "81b6925f-7c8f-4a96-a07b-038a9f320b49",
   "metadata": {},
   "outputs": [],
   "source": [
    "import pandas as pd\n",
    "from bs4 import BeautifulSoup\n",
    "import requests"
   ]
  },
  {
   "cell_type": "code",
   "execution_count": 5,
   "id": "0f03e720-ec88-44ff-b47f-d1a58f3a7aa7",
   "metadata": {},
   "outputs": [
    {
     "name": "stdout",
     "output_type": "stream",
     "text": [
      "Hello World\n"
     ]
    }
   ],
   "source": [
    "print(\"Hello World\")"
   ]
  },
  {
   "cell_type": "code",
   "execution_count": 6,
   "id": "b34d1e82-b48b-460b-8d4b-6e6657db3cb3",
   "metadata": {},
   "outputs": [
    {
     "name": "stdout",
     "output_type": "stream",
     "text": [
      "{'Connection': 'keep-alive', 'Content-Length': '26697', 'Cache-Control': 'max-age=1800, public', 'Content-Encoding': 'gzip', 'Content-Language': 'en', 'Content-Type': 'text/html; charset=UTF-8', 'Etag': 'W/\"1759352213\"', 'Expires': 'Sun, 19 Nov 1978 05:00:00 GMT', 'Last-Modified': 'Wed, 01 Oct 2025 20:56:53 GMT', 'Server': 'nginx', 'Strict-Transport-Security': 'max-age=31622400', 'X-Content-Type-Options': 'nosniff', 'X-Drupal-Cache': 'MISS', 'X-Drupal-Dynamic-Cache': 'MISS', 'X-Frame-Options': 'SAMEORIGIN', 'X-Generator': 'Drupal 10 (https://www.drupal.org)', 'X-Pantheon-Styx-Hostname': 'styx-fe3-a-6966ffb76d-sqsg8', 'X-Styx-Req-Id': '28b6f945-9f09-11f0-be4e-4642d4bfde44', 'Date': 'Wed, 01 Oct 2025 20:56:53 GMT', 'X-Served-By': 'cache-chi-kigq8000114-CHI, cache-ewr-kewr1740078-EWR', 'X-Cache': 'MISS, MISS', 'X-Cache-Hits': '0, 0', 'X-Timer': 'S1759352213.486921,VS0,VE409', 'Vary': 'Accept-Encoding, Cookie, Cookie, Cookie', 'Age': '0', 'Accept-Ranges': 'bytes', 'Via': '1.1 varnish, 1.1 varnish'}\n"
     ]
    }
   ],
   "source": [
    "# first we gotta fetch the website\n",
    "#website is: https://www.ccny.cuny.edu/registrar/fall\n",
    "URL = 'https://www.ccny.cuny.edu/registrar/fall'\n",
    "res = requests.get(url=URL)\n",
    "print(res.headers)"
   ]
  },
  {
   "cell_type": "code",
   "execution_count": 27,
   "id": "f92ca66c-8477-40d9-8506-31453bb7fb7f",
   "metadata": {},
   "outputs": [
    {
     "name": "stdout",
     "output_type": "stream",
     "text": [
      "<p><strong>August 01</strong></p>\n"
     ]
    }
   ],
   "source": [
    "#now that we fetched the site, we want to extract the html with beautifulsoup\n",
    "html_data = res.content\n",
    "soup = BeautifulSoup(html_data, 'html.parser')\n",
    "# print(soup.prettify())\n",
    "\n",
    "#now that we have extracted the html we find where most of the data for the list is\n",
    "tr_tag = soup.find_all('tr')\n",
    "#returns a list of the entire list with each index containing where <tr> upto </tr>\n",
    "\n",
    "#we will now iterate to build up a \n",
    "#we have two ways to construct our DataFrame: List of Dicts or Dict of Lists\n",
    "# list of dicts allows us to construct it in such a way that each row is created with its relecant data\n",
    "\"\"\"\n",
    "[\n",
    "    {\n",
    "        \"date\": \"Aug, 1\",\n",
    "        \"dow\": \"Mon\",\n",
    "        \"text\": \"The great noticing\":\n",
    "    }\n",
    "]\n",
    "\n",
    "\"\"\"\n",
    "print(tr_tag[1].find('p').string)\n",
    "\n",
    "for tr in tr_tag[1:]: \n",
    "    pass\n",
    "    \n",
    "    \n",
    "\n",
    "\n",
    "\n"
   ]
  },
  {
   "cell_type": "code",
   "execution_count": null,
   "id": "9cae2a2e-6862-43b2-98ec-3c8ddd9c5157",
   "metadata": {},
   "outputs": [],
   "source": []
  }
 ],
 "metadata": {
  "kernelspec": {
   "display_name": "Python (myenv)",
   "language": "python",
   "name": "myenv"
  },
  "language_info": {
   "codemirror_mode": {
    "name": "ipython",
    "version": 3
   },
   "file_extension": ".py",
   "mimetype": "text/x-python",
   "name": "python",
   "nbconvert_exporter": "python",
   "pygments_lexer": "ipython3",
   "version": "3.13.5"
  }
 },
 "nbformat": 4,
 "nbformat_minor": 5
}
